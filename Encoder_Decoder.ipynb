{
 "cells": [
  {
   "cell_type": "markdown",
   "id": "078f43c5",
   "metadata": {},
   "source": [
    "# if we are genrating sequnce to sequnce output dosent use simple,lstm,GRU Rnn"
   ]
  },
  {
   "cell_type": "markdown",
   "id": "dad7a1c2",
   "metadata": {},
   "source": [
    "## ENCODER AND DECODER"
   ]
  },
  {
   "cell_type": "code",
   "execution_count": null,
   "id": "d4d6a106",
   "metadata": {},
   "outputs": [],
   "source": [
    "\"\"\"\n",
    "Simple working of Encoder and decoder:\n",
    "\n",
    "                     Hideen state get \n",
    "convert word to      passed thrugh(Context Vector)\n",
    "array number                    \n",
    "\n",
    "------>Encoder ------------------------------------------|->------>Decoder----|------->  The decoder genrate the output word by word and\n",
    "                                                                                          keep feeding the previous word int decoder again\n",
    "input                                                    |                    |\n",
    "sentence                                                 |                    |\n",
    "\"\"\"                                                      | ------------------<|\n",
    "\n",
    "\n",
    "\"\"\"\n",
    "Use cases of Encoder and Decoder:\n",
    "1.Language Translations\n",
    "2.Text Genration\n",
    "3.Text Suggetion\n",
    "\"\"\""
   ]
  },
  {
   "cell_type": "code",
   "execution_count": null,
   "id": "151abe5b",
   "metadata": {},
   "outputs": [],
   "source": [
    "## problems of encoder and decoders(seq2seq architetcure):\n",
    "\n",
    "\n",
    "\"\"\" \n",
    "1. encoder are workining on smoller size of sentence if sendence length is incressing the endoer and decoder dosent work prperly\n",
    "thayt whay attention mechanisome is involved in seq 2 seq . \n",
    "\n",
    "\n",
    "with attention that can imaplimented with decoder that contain the information of all next and previouse words\n",
    "\"\"\"\n",
    "\n",
    "\n",
    "\n",
    "##### Attention Mechanism with Seq2 Seq\n",
    "\"\"\" \n",
    "\n",
    "!. bydirectional LSTM use with that mechanisome \n",
    "use feed forword neural network\n",
    "\n",
    "computr context vector=\n",
    "\n",
    "\n",
    "\n",
    "\"\"\"\n",
    "\n",
    "\n",
    "\n",
    "\n",
    "\n",
    "\n"
   ]
  }
 ],
 "metadata": {
  "kernelspec": {
   "display_name": "Python 3",
   "language": "python",
   "name": "python3"
  },
  "language_info": {
   "name": "python",
   "version": "3.11.4"
  }
 },
 "nbformat": 4,
 "nbformat_minor": 5
}
